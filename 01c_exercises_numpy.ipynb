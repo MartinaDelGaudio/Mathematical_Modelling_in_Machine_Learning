{
 "cells": [
  {
   "attachments": {},
   "cell_type": "markdown",
   "metadata": {},
   "source": [
    "# Lesson 01: Numpy Exercises"
   ]
  },
  {
   "cell_type": "code",
   "execution_count": 5,
   "metadata": {},
   "outputs": [
    {
     "name": "stdout",
     "output_type": "stream",
     "text": [
      "Requirement already satisfied: numpy in /Library/Frameworks/Python.framework/Versions/3.11/lib/python3.11/site-packages (1.24.2)\n",
      "Note: you may need to restart the kernel to use updated packages.\n"
     ]
    }
   ],
   "source": [
    "pip install numpy"
   ]
  },
  {
   "attachments": {},
   "cell_type": "markdown",
   "metadata": {},
   "source": [
    "## 1. Numpy array creation basics (I)\n",
    "\n",
    "1. Write a python list of integer numbers, then create a 1-d numpy array out of it. Read out the\n",
    "element type from the array. (There is a specific array attribute for that, make sure that you know\n",
    "what it is! The mnemonic to remember what it is is \"data type\".)\n",
    "\n",
    "2. Then do the same for a list of floating point numbers.  Again, read out the element type.\n",
    "\n",
    "3. Then create a list in which there is a mix of integers and floating point numbers, e.g. `[1, 2.0, 3]`, and create a numpy array from it.  What do you expect to happen in such case?  Verify your\n",
    "expectations by checking in practice.\n",
    "\n",
    "4. What if you wanted to ensure that the element type is floating point even when your input list only\n",
    "contains integers?\n",
    "\n",
    "5. What happens if your starting list contains floating point values but you try to force it to a\n",
    "`bool` element type?\n",
    "\n",
    "6. What happens if your list has elements which are not numbers, e.g. if some elements are strings?\n",
    "Check this. Inspect your results carefully. Get an element of the array out (e.g. with `a[0]`) and\n",
    "then check its type with the `type` built-in function. Is the result an instance of a string? Check\n",
    "it with `isinstance`.\n",
    "\n",
    "7. What about if one or more elements are sets, or dicts?"
   ]
  },
  {
   "cell_type": "code",
   "execution_count": 6,
   "metadata": {},
   "outputs": [
    {
     "name": "stdout",
     "output_type": "stream",
     "text": [
      "int64\n"
     ]
    }
   ],
   "source": [
    "# 1.\n",
    "\n",
    "# Write a python list of integer numbers, then create a 1-d numpy array out of it. Read out the\n",
    "# element type from the array. (There is a specific array attribute for that, make sure that you know\n",
    "# what it is! The mnemonic to remember what it is is \"data type\".)\n",
    "import numpy as np\n",
    "l = [1, 2, 3, 4, 5]\n",
    "a = np.array(l)\n",
    "print(a.dtype)\n"
   ]
  },
  {
   "cell_type": "markdown",
   "metadata": {},
   "source": [
    "## 2. Numpy array creation basics (II)\n",
    "\n",
    "1. Create a 2x3 array of zeros. Print the shape.\n",
    "\n",
    "2. Create a 3x3x4 array of ones. \n",
    "\n",
    "3. Create a 2x2  array of random standard Gaussian numbers\n",
    "\n",
    "4. Write a function that takes a single argument `n` and creates a 1-d array of size `n`, filled with\n",
    "the value `-1` (integer). Do it in a single line of code. Exploit the simplest of the broadcasting\n",
    "rules. **Note:** there are at least 3 ways to do this. Can you figure them all out?\n"
   ]
  },
  {
   "cell_type": "code",
   "execution_count": 27,
   "metadata": {},
   "outputs": [
    {
     "name": "stdout",
     "output_type": "stream",
     "text": [
      "[-1. -1. -1. -1. -1.] [-1 -1 -1 -1 -1] [-1 -1 -1 -1 -1]\n"
     ]
    }
   ],
   "source": [
    "import numpy as np\n",
    "def array1(n): return np.zeros(n) -1 \n",
    "def array2(n): return np.full(n, -1)\n",
    "def array3(n): return np.array([-1 for i in range(n)])\n",
    "print( array1(5), array2(5), array3(5))"
   ]
  },
  {
   "cell_type": "markdown",
   "metadata": {},
   "source": [
    "## 3. Reading out array chunks\n",
    "\n",
    "1. Write a function that takes a list as its argument, let's say that it is of length n . The function\n",
    "should first create a 1-d array from this list. Then, it should read out the first half of the array.\n",
    "Then it should read out the second half. Both these operations must be performed with one line\n",
    "of code each. If n is odd, then the middle element should be put in the second list.\n",
    "\n",
    "2. If you were working with Python lists, you could concatenate back the two halves using + . With\n",
    "numpy arrays you can't do that though. Why? (Try it; use both lists with even and odd n , and see\n",
    "what happens.)\n",
    "\n",
    "3. Look up the function np.hstack in the numpy documentation (maybe also look at np.stack\n",
    "and np.vstack while you're at it, although they are not necessary for this exercise). Using that\n",
    "function, you should be able to concatenate the two halves and get back an array like the original\n",
    "one. Do that, and return the result.m"
   ]
  },
  {
   "cell_type": "code",
   "execution_count": 65,
   "metadata": {},
   "outputs": [
    {
     "name": "stdout",
     "output_type": "stream",
     "text": [
      "[array([1, 2]), array([3, 4, 5])] [1 2 3 4 5]\n"
     ]
    }
   ],
   "source": [
    "def arraychunks(a): \n",
    "    b = np.array(a)\n",
    "    return np.split(b,[int(len(b)/2)])\n",
    "b = arraychunks([1,2,3,4,5])\n",
    "print(b, np.hstack((b[0], b[1])))\n",
    "\n"
   ]
  },
  {
   "cell_type": "markdown",
   "metadata": {},
   "source": [
    "## 4. Slicing in strides\n",
    "\n",
    "Write a function that takes a list as its argument, let's say it is of length `n`. Let's also\n",
    "assume that `n>0` for simplicity (the input list is not empty). The function should first create a\n",
    "1-d array from this list. Then, it should read out all the elements with even indices, in a new\n",
    "array. Then all the elements with odd indices. Both these operations must be performed with one\n",
    "line of code each, using slicing expressions."
   ]
  },
  {
   "cell_type": "code",
   "execution_count": 87,
   "metadata": {},
   "outputs": [
    {
     "data": {
      "text/plain": [
       "(array([1, 3, 5, 7]), array([2, 4, 6]))"
      ]
     },
     "execution_count": 87,
     "metadata": {},
     "output_type": "execute_result"
    }
   ],
   "source": [
    "def evenorodd(a):\n",
    "    b = np.array(a)\n",
    "    return  np.array([ b[i] for i in range(len(a)) if i%2==0]), np.array([ b[i] for i in range(len(a)) if i%2!=0])\n",
    "evenorodd([1,2,3,4,5,6,7])\n"
   ]
  },
  {
   "cell_type": "markdown",
   "metadata": {},
   "source": [
    "## 5. Indexing with lists\n",
    "\n",
    "Write a function that takes a list as its argument, let's say it is of length `n`. Let's also say\n",
    "for simplicity that `n` is odd and that `n>=1`. As for the previous exercises, the function should\n",
    "create a 1-d array from this list.  Use an indexing expression that uses another list (of length 3)\n",
    "to extract a new array which contains, the first, the middle and the last element of the original\n",
    "array. (Since `n` is odd, the array will always have a middle element.) For example, if your input\n",
    "list is `[4,6,1,2,0,7,9]`, then your result should contain `4`, `2` and `9`.\n",
    "\n",
    "Do you get a view or not from this? Write some code that verifies your answer.\n",
    "\n",
    "**Important note:** If `n==1`, the 3 elements of your indexing list should be the same: this is no\n",
    "problem at all! When you use a list for indexing, there can be repetitions in the list. The result\n",
    "will just be an array with 3 identical values. To convince yourself, try to index an array with\n",
    "different lists and observe what happens, and observe what happens in particular if you have\n",
    "repetitions, e.g. take an array of length 3 and observe that you can use a list like `[2, 0, 1, 0,\n",
    "0, 1]`, resulting in an output array of length 6: larger than the original!"
   ]
  },
  {
   "cell_type": "code",
   "execution_count": 94,
   "metadata": {},
   "outputs": [
    {
     "data": {
      "text/plain": [
       "array([2, 0, 1])"
      ]
     },
     "execution_count": 94,
     "metadata": {},
     "output_type": "execute_result"
    }
   ],
   "source": [
    "def middle(a):\n",
    "    b = np.array(a)\n",
    "    return np.array([b[0], b[int(len(a)/2)], b[len(a)-1]])\n",
    "middle([2,0,1,0,0,1])"
   ]
  },
  {
   "cell_type": "markdown",
   "metadata": {},
   "source": [
    "## 6. Indexing with masks\n",
    "\n",
    "Write a function that takes a list as its argument, let's say it is of length `n`. Let's also say\n",
    "that the list may contain both positive and negative numbers. As for the previous exercises, the\n",
    "function should create a 1-d array from this list. Compare the whole array with `0`, i.e. do\n",
    "something like `a > 0`. What is the result? Check this.\n",
    "\n",
    "Use the result as a mask in an indexing expression. You want to get a new array which contains only\n",
    "the elements of the original array that are non-negative. For example, if your input list is `[3,\n",
    "-1, -2, 5, 6, -3, 8]`, your output should contain `3`, `5`, `6` and `8`. Can you do this with a\n",
    "single indexing expression? (Yes you can!)\n",
    "\n",
    "Do you get a view or not from this? Write some code that verifies your answer."
   ]
  },
  {
   "cell_type": "code",
   "execution_count": 106,
   "metadata": {},
   "outputs": [
    {
     "data": {
      "text/plain": [
       "array([1, 2, 3, 7])"
      ]
     },
     "execution_count": 106,
     "metadata": {},
     "output_type": "execute_result"
    }
   ],
   "source": [
    "def maskindexing(a): \n",
    "    b = np.array(a)\n",
    "    return np.array( [b[i] for i in range(len(a)) if b[i]> 0]) \n",
    "maskindexing([1,2, -7, 3,-4, 7])\n",
    "\n"
   ]
  },
  {
   "cell_type": "markdown",
   "metadata": {},
   "source": [
    "## 7. Sums\n",
    "\n",
    "- Generate a 3x4 array of random normal numbers\n",
    "- Using the `sum` method, compute the total sum of the elements\n",
    "- Using the `sum` method, compute the total sum of the elements along the columns. The result should be an array with 4 elements\n",
    "- Using the `sum` method, compute the total sum of the elements along the rows. The result should be an array with 3 elements"
   ]
  },
  {
   "cell_type": "markdown",
   "metadata": {},
   "source": [
    "## 8. reshape and stack\n",
    "\n",
    "- Use `np.arange` to create an array with 12 elements\n",
    "- reshape it to a 3x4 array and call `x` the result. You should notice that numpy arrays are row-major\n",
    "- Create a new array that can be stacked with `x` along the first dimension\n",
    "- Create a new array that can be stacked with `x` along the second dimension\n"
   ]
  },
  {
   "cell_type": "code",
   "execution_count": 142,
   "metadata": {},
   "outputs": [
    {
     "name": "stdout",
     "output_type": "stream",
     "text": [
      "[[ 0  1  2  3]\n",
      " [ 4  5  6  7]\n",
      " [ 8  9 10 11]] [[ 0.          1.          2.          3.        ]\n",
      " [ 4.          5.          6.          7.        ]\n",
      " [ 8.          9.         10.         11.        ]\n",
      " [-1.56287531  0.51318161 -0.5970855   1.5310655 ]\n",
      " [ 1.01721465  0.19904103 -1.26119948 -0.07318979]\n",
      " [-1.50093332  1.53696632  0.66062235  1.65584605]] [[ 0.          1.          2.          3.         -1.56287531  0.51318161\n",
      "  -0.5970855   1.5310655 ]\n",
      " [ 4.          5.          6.          7.          1.01721465  0.19904103\n",
      "  -1.26119948 -0.07318979]\n",
      " [ 8.          9.         10.         11.         -1.50093332  1.53696632\n",
      "   0.66062235  1.65584605]]\n"
     ]
    }
   ],
   "source": [
    "#Sums\n",
    "rand_n= np.random.randn(3,4)\n",
    "print\n",
    "(   \n",
    "    rand_n, \n",
    "    np.sum(rand_n), #sum of all values\n",
    "    np.sum(rand_n, axis= 0), #sum of columns (row axis is set to 0)\n",
    "    np.sum(rand_n, axis= 1) #sum of rows (row axis is ste to 1)\n",
    ")\n",
    "\n",
    "#Reshape and stack\n",
    "x = np.arange(12).reshape((3,4))\n",
    "print(\n",
    "    x, \n",
    "    np.vstack((x,rand_n)), \n",
    "    np.hstack((x, rand_n))\n",
    "    )\n"
   ]
  },
  {
   "cell_type": "markdown",
   "metadata": {},
   "source": [
    "## 9. Broadcast\n",
    "\n",
    "- Create an 3x4 array `x` of gaussian numbers\n",
    "- compute the element-wise exponential of `x`\n",
    "- sum `x` to a 1d array `y` of 4 numbers. Do you understand what kind of broadcasting is involved\n",
    "- sum `x` to an array `y` of 3 numbers. `y` should be created or reshaped to a suitable shape for broadcasting with `x`"
   ]
  },
  {
   "cell_type": "code",
   "execution_count": 155,
   "metadata": {},
   "outputs": [
    {
     "name": "stdout",
     "output_type": "stream",
     "text": [
      "[[ 0.85504191 -0.53289906 -0.36808167  0.45786232]\n",
      " [-0.45944739 -1.44611125  0.53435701 -1.96030436]\n",
      " [ 1.22089112 -1.68824787 -1.12193753  0.22282651]] [[0]\n",
      " [1]\n",
      " [2]] [[ 0.85504191 -0.53289906 -0.36808167  0.45786232]\n",
      " [ 0.54055261 -0.44611125  1.53435701 -0.96030436]\n",
      " [ 3.22089112  0.31175213  0.87806247  2.22282651]]\n"
     ]
    }
   ],
   "source": [
    "x = np.random.randn(3,4)\n",
    "exp_x= np.exp(x)\n",
    "y = np.arange(4)\n",
    "y_new = np.arange(3).reshape((3,1))\n",
    "print(x, y_new, x + y_new) #x+y sums all element of y to every row of x if number of elements coincide (same for columns)"
   ]
  }
 ],
 "metadata": {
  "kernelspec": {
   "display_name": "Python 3.11.1 64-bit",
   "language": "python",
   "name": "python3"
  },
  "language_info": {
   "codemirror_mode": {
    "name": "ipython",
    "version": 3
   },
   "file_extension": ".py",
   "mimetype": "text/x-python",
   "name": "python",
   "nbconvert_exporter": "python",
   "pygments_lexer": "ipython3",
   "version": "3.11.1"
  },
  "vscode": {
   "interpreter": {
    "hash": "aee8b7b246df8f9039afb4144a1f6fd8d2ca17a180786b69acc140d282b71a49"
   }
  }
 },
 "nbformat": 4,
 "nbformat_minor": 4
}
